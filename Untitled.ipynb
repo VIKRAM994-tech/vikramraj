{
 "cells": [
  {
   "cell_type": "code",
   "execution_count": 1,
   "id": "25f8d25b-1804-4396-859e-2d0660bf50df",
   "metadata": {},
   "outputs": [
    {
     "ename": "NameError",
     "evalue": "name 'animal' is not defined",
     "output_type": "error",
     "traceback": [
      "\u001b[1;31m---------------------------------------------------------------------------\u001b[0m",
      "\u001b[1;31mNameError\u001b[0m                                 Traceback (most recent call last)",
      "Cell \u001b[1;32mIn[1], line 4\u001b[0m\n\u001b[0;32m      2\u001b[0m     \u001b[38;5;28;01mdef\u001b[39;00m \u001b[38;5;21mspeak\u001b[39m(\u001b[38;5;28mself\u001b[39m):\n\u001b[0;32m      3\u001b[0m         \u001b[38;5;28;01mreturn\u001b[39;00m \u001b[38;5;124m\"\u001b[39m\u001b[38;5;124manimal make a sound.\u001b[39m\u001b[38;5;124m\"\u001b[39m\n\u001b[1;32m----> 4\u001b[0m \u001b[38;5;28;01mclass\u001b[39;00m \u001b[38;5;21;01mDog\u001b[39;00m(animal):\n\u001b[0;32m      5\u001b[0m     \u001b[38;5;28;01mdef\u001b[39;00m \u001b[38;5;21mspeak\u001b[39m(\u001b[38;5;28mself\u001b[39m):\n\u001b[0;32m      6\u001b[0m         \u001b[38;5;28;01mreturn\u001b[39;00m\u001b[38;5;124m\"\u001b[39m\u001b[38;5;124mdog says Woof!\u001b[39m\u001b[38;5;124m\"\u001b[39m\n",
      "\u001b[1;31mNameError\u001b[0m: name 'animal' is not defined"
     ]
    }
   ],
   "source": [
    "class Animal:\n",
    "    def speak(self):\n",
    "        return \"animal make a sound.\"\n",
    "class Dog(animal):\n",
    "    def speak(self):\n",
    "        return\"dog says Woof!\"\n",
    "dog=Dog()\n",
    "print(dog.speak())"
   ]
  },
  {
   "cell_type": "markdown",
   "id": "368a6fd5-7864-44d7-9185-2830b40edcdb",
   "metadata": {},
   "source": [
    "def sum_of_digits(n):\n",
    "    s=0\n",
    "    while(n>0):\n",
    "        digit =n%10\n",
    "        s =s+digit\n",
    "        n =n/10\n",
    "        return s\n",
    "    n = int(input(\"enter a number:\"))\n",
    "    print(sum_of_digits(n))"
   ]
  },
  {
   "cell_type": "code",
   "execution_count": 39,
   "id": "81facac2-e4ec-40cd-a04d-55c499bb8ce4",
   "metadata": {},
   "outputs": [
    {
     "name": "stdin",
     "output_type": "stream",
     "text": [
      "enter a number: 54\n"
     ]
    },
    {
     "name": "stdout",
     "output_type": "stream",
     "text": [
      "[1]\n",
      "[1, 2]\n",
      "[1, 2, 3]\n",
      "[1, 2, 3, 6]\n",
      "[1, 2, 3, 6, 9]\n",
      "[1, 2, 3, 6, 9, 18]\n",
      "[1, 2, 3, 6, 9, 18, 27]\n",
      "[1, 2, 3, 6, 9, 18, 27, 54]\n"
     ]
    }
   ],
   "source": [
    "n = int(input(\"enter a number:\"))\n",
    "factor_list= []\n",
    "for i in range(1,n+1):\n",
    "    if n%i ==0:\n",
    "        factor_list.append(i)\n",
    "        print (factor_list)"
   ]
  },
  {
   "cell_type": "code",
   "execution_count": 59,
   "id": "24cf8d50-9c1c-4669-8cf7-4db9a44dca31",
   "metadata": {},
   "outputs": [
    {
     "name": "stdin",
     "output_type": "stream",
     "text": [
      "enter a number: 23\n"
     ]
    },
    {
     "name": "stdout",
     "output_type": "stream",
     "text": [
      "[1, 23]\n"
     ]
    }
   ],
   "source": [
    "def factors(n):\n",
    "    factorlist = []\n",
    "    for i in range(1,n+1):\n",
    "        if n%i == 0:\n",
    "            factorlist.append(i)\n",
    "    return (factorlist)\n",
    "n = int(input(\"enter a number:\"))\n",
    "print(factors(n))"
   ]
  },
  {
   "cell_type": "code",
   "execution_count": 57,
   "id": "37eadea1-0f7e-4a61-b147-e83894af1e2c",
   "metadata": {},
   "outputs": [
    {
     "name": "stdin",
     "output_type": "stream",
     "text": [
      "Enter a number: 23\n"
     ]
    },
    {
     "name": "stdout",
     "output_type": "stream",
     "text": [
      "True\n"
     ]
    }
   ],
   "source": [
    "def prime(n):\n",
    "    return(factors(n) == [1,n])\n",
    "n = int(input(\"Enter a number:\"))\n",
    "print(prime(n))"
   ]
  },
  {
   "cell_type": "code",
   "execution_count": 8,
   "id": "1b3bd2f3-7b80-4f0c-b730-27a065d900f0",
   "metadata": {},
   "outputs": [
    {
     "name": "stdout",
     "output_type": "stream",
     "text": [
      "list: 1\n",
      "<class 'int'>\n",
      "numpy array: 1\n",
      "<class 'numpy.ndarray'>\n"
     ]
    }
   ],
   "source": [
    "# statement to import the numpy library\n",
    "import numpy as np\n",
    "l=[1,2,3,4]\n",
    "print(\"list:\",1)\n",
    "print(type(1))\n",
    "arr=np.array(1)\n",
    "print(\"numpy array:\",arr)\n",
    "print(type(arr))"
   ]
  },
  {
   "cell_type": "code",
   "execution_count": 10,
   "id": "b54e8f11-72d6-46dd-93e0-319cd3e27a45",
   "metadata": {},
   "outputs": [
    {
     "name": "stdout",
     "output_type": "stream",
     "text": [
      "<class 'list'>\n",
      "[[1 2]\n",
      " [3 4]]\n",
      "<class 'numpy.ndarray'>\n"
     ]
    }
   ],
   "source": [
    "li = [[1,2],[3,4]]\n",
    "print(type(li))\n",
    "arr1=np.array(li)\n",
    "print(arr1)\n",
    "print(type(arr1))"
   ]
  },
  {
   "cell_type": "code",
   "execution_count": 14,
   "id": "3e6e1534-4f51-44f2-af61-6441df07623c",
   "metadata": {},
   "outputs": [
    {
     "name": "stdout",
     "output_type": "stream",
     "text": [
      "<class 'list'>\n",
      "[[[1 2 2]\n",
      "  [4 3 4]\n",
      "  [9 5 6]\n",
      "  [5 7 8]]]\n",
      "<class 'numpy.ndarray'>\n"
     ]
    }
   ],
   "source": [
    "c=[[[1,2,2],[4,3,4],[9,5,6],[5,7,8]]]\n",
    "print(type(c))\n",
    "arr2=np.array(c)\n",
    "print(arr2)\n",
    "print(type(arr2))"
   ]
  },
  {
   "cell_type": "code",
   "execution_count": null,
   "id": "6003388e-72a3-4f8e-b27e-edc720dccfa8",
   "metadata": {},
   "outputs": [],
   "source": []
  }
 ],
 "metadata": {
  "kernelspec": {
   "display_name": "Python [conda env:base] *",
   "language": "python",
   "name": "conda-base-py"
  },
  "language_info": {
   "codemirror_mode": {
    "name": "ipython",
    "version": 3
   },
   "file_extension": ".py",
   "mimetype": "text/x-python",
   "name": "python",
   "nbconvert_exporter": "python",
   "pygments_lexer": "ipython3",
   "version": "3.12.7"
  }
 },
 "nbformat": 4,
 "nbformat_minor": 5
}
